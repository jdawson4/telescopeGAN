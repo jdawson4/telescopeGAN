{
 "cells": [
  {
   "cell_type": "code",
   "execution_count": null,
   "metadata": {},
   "outputs": [],
   "source": [
    "# Author: Jacob Dawson\n",
    "#\n",
    "# This notebook exists so that I can run my scripts in Colab. I'm essentially\n",
    "# just going to import my main function from telescopeGAN.py and run it lol\n",
    "\n",
    "from telescopeGAN import trainModel\n",
    "\n",
    "trainModel()"
   ]
  },
  {
   "cell_type": "code",
   "execution_count": null,
   "metadata": {},
   "outputs": [],
   "source": [
    "# when you're done training, this next file is used for generating images\n",
    "# from the checkpoints/models saved during teh training process. This\n",
    "# generates the images we've been working toward!\n",
    "\n",
    "from telescopeGen import generateImages\n",
    "\n",
    "generateImages()"
   ]
  }
 ],
 "metadata": {
  "language_info": {
   "name": "python"
  },
  "orig_nbformat": 4
 },
 "nbformat": 4,
 "nbformat_minor": 2
}
